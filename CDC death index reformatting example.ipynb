{
 "cells": [
  {
   "cell_type": "markdown",
   "metadata": {},
   "source": [
    "#This is for formatting data from an example dataset into CDC national death index readable format"
   ]
  },
  {
   "cell_type": "code",
   "execution_count": null,
   "metadata": {},
   "outputs": [],
   "source": [
    "#import pandas to get excel file\n",
    "import pandas as pd"
   ]
  },
  {
   "cell_type": "code",
   "execution_count": null,
   "metadata": {},
   "outputs": [],
   "source": [
    "#import excel dataset\n",
    "#replace \"C:/Users/Documents/Mortality Example Data.xlsx\" with the name and location of the excel file\n",
    "sheet = pd.read_excel(\"C:/Users/Documents/Mortality Example Data.xlsx\", sheet_name = 0)"
   ]
  },
  {
   "cell_type": "code",
   "execution_count": null,
   "metadata": {
    "scrolled": true
   },
   "outputs": [],
   "source": [
    "#The first number in brackets indicates row number -1 and the second number indicates the column number -1\n",
    "#the following code will print the contents of cell A1\n",
    "print(sheet.loc[0][0])"
   ]
  },
  {
   "cell_type": "code",
   "execution_count": null,
   "metadata": {
    "scrolled": false
   },
   "outputs": [],
   "source": [
    "#reformats each participant\n",
    "participant_number = 1\n",
    "#replace 20 in the next line with the number of participants you have\n",
    "while participant_number < 20:\n",
    "    #turn the data from the excel file into strings\n",
    "    f_name = str(sheet.loc[participant_number][2])\n",
    "    l_name = str(sheet.loc[participant_number][3])\n",
    "    m_initial = str(sheet.loc[participant_number][4])\n",
    "    year_int = int(sheet.loc[participant_number][9])\n",
    "    sex_int = int(sheet.loc[participant_number][5])\n",
    "    year = str(year_int)\n",
    "    sex = str(sex_int)\n",
    "    race_int = (sheet.loc[participant_number][10])\n",
    "    race_str = str(race_int)\n",
    "    ID_int = int(sheet.loc[participant_number][0])\n",
    "    ID = str(ID_int)\n",
    "    race = race_str[:1]\n",
    "    \n",
    "    #removing nans\n",
    "    if m_initial == \"nan\":\n",
    "        m_initial = \"\"\n",
    "        \n",
    "    \n",
    "    #add the correct number of spaces\n",
    "    first_name_spaces = ' ' * (15 -  len(f_name))\n",
    "    last_name_spaces = ' ' * (20 - len(l_name))\n",
    "    m_initial_spaces = ' ' * (10 - len(m_initial))\n",
    "    year_spaces = ' ' * 21\n",
    "    sex_spaces = ' ' * (6 - len(race))\n",
    "    ID_spaces = ' ' * (19 - len(ID))\n",
    "    \n",
    "    #birth month was not collected therefore an entry is created for each month of the birth year\n",
    "    #\"loop\" through the months\n",
    "    #print each participants data\n",
    "    print(l_name + (last_name_spaces) + f_name + (first_name_spaces) + m_initial + m_initial_spaces + \"01  \" + year + year_spaces + sex + race + sex_spaces + ID + ID_spaces)\n",
    "    print(l_name + (last_name_spaces) + f_name + (first_name_spaces) + m_initial + m_initial_spaces + \"02  \" + year + year_spaces + sex + race + sex_spaces + ID + ID_spaces)\n",
    "    print(l_name + (last_name_spaces) + f_name + (first_name_spaces) + m_initial + m_initial_spaces + \"03  \" + year + year_spaces + sex + race + sex_spaces + ID + ID_spaces)\n",
    "    print(l_name + (last_name_spaces) + f_name + (first_name_spaces) + m_initial + m_initial_spaces + \"04  \" + year + year_spaces + sex + race + sex_spaces + ID + ID_spaces)\n",
    "    print(l_name + (last_name_spaces) + f_name + (first_name_spaces) + m_initial + m_initial_spaces + \"05  \" + year + year_spaces + sex + race + sex_spaces + ID + ID_spaces)\n",
    "    print(l_name + (last_name_spaces) + f_name + (first_name_spaces) + m_initial + m_initial_spaces + \"06  \" + year + year_spaces + sex + race + sex_spaces + ID + ID_spaces)\n",
    "    print(l_name + (last_name_spaces) + f_name + (first_name_spaces) + m_initial + m_initial_spaces + \"07  \" + year + year_spaces + sex + race + sex_spaces + ID + ID_spaces)\n",
    "    print(l_name + (last_name_spaces) + f_name + (first_name_spaces) + m_initial + m_initial_spaces + \"08  \" + year + year_spaces + sex + race + sex_spaces + ID + ID_spaces)\n",
    "    print(l_name + (last_name_spaces) + f_name + (first_name_spaces) + m_initial + m_initial_spaces + \"09  \" + year + year_spaces + sex + race + sex_spaces + ID + ID_spaces)\n",
    "    print(l_name + (last_name_spaces) + f_name + (first_name_spaces) + m_initial + m_initial_spaces + \"10  \" + year + year_spaces + sex + race + sex_spaces + ID + ID_spaces)\n",
    "    print(l_name + (last_name_spaces) + f_name + (first_name_spaces) + m_initial + m_initial_spaces + \"11  \" + year + year_spaces + sex + race + sex_spaces + ID + ID_spaces)\n",
    "    print(l_name + (last_name_spaces) + f_name + (first_name_spaces) + m_initial + m_initial_spaces + \"12  \" + year + year_spaces + sex + race + sex_spaces + ID + ID_spaces)\n",
    "    \n",
    "    year_int -= 1\n",
    "    year = str(year_int)\n",
    "    #\"loop\" through the months from the beginning of the previous year\n",
    "    #print each participants data\n",
    "    print(l_name + (last_name_spaces) + f_name + (first_name_spaces) + m_initial + m_initial_spaces + \"01  \" + year + year_spaces + sex + race + sex_spaces + ID + ID_spaces)\n",
    "    print(l_name + (last_name_spaces) + f_name + (first_name_spaces) + m_initial + m_initial_spaces + \"02  \" + year + year_spaces + sex + race + sex_spaces + ID + ID_spaces)\n",
    "    print(l_name + (last_name_spaces) + f_name + (first_name_spaces) + m_initial + m_initial_spaces + \"03  \" + year + year_spaces + sex + race + sex_spaces + ID + ID_spaces)\n",
    "    print(l_name + (last_name_spaces) + f_name + (first_name_spaces) + m_initial + m_initial_spaces + \"04  \" + year + year_spaces + sex + race + sex_spaces + ID + ID_spaces)\n",
    "    print(l_name + (last_name_spaces) + f_name + (first_name_spaces) + m_initial + m_initial_spaces + \"05  \" + year + year_spaces + sex + race + sex_spaces + ID + ID_spaces)\n",
    "    print(l_name + (last_name_spaces) + f_name + (first_name_spaces) + m_initial + m_initial_spaces + \"06  \" + year + year_spaces + sex + race + sex_spaces + ID + ID_spaces)\n",
    "    print(l_name + (last_name_spaces) + f_name + (first_name_spaces) + m_initial + m_initial_spaces + \"07  \" + year + year_spaces + sex + race + sex_spaces + ID + ID_spaces)\n",
    "    print(l_name + (last_name_spaces) + f_name + (first_name_spaces) + m_initial + m_initial_spaces + \"08  \" + year + year_spaces + sex + race + sex_spaces + ID + ID_spaces)\n",
    "    print(l_name + (last_name_spaces) + f_name + (first_name_spaces) + m_initial + m_initial_spaces + \"09  \" + year + year_spaces + sex + race + sex_spaces + ID + ID_spaces)\n",
    "    print(l_name + (last_name_spaces) + f_name + (first_name_spaces) + m_initial + m_initial_spaces + \"10  \" + year + year_spaces + sex + race + sex_spaces + ID + ID_spaces)\n",
    "    print(l_name + (last_name_spaces) + f_name + (first_name_spaces) + m_initial + m_initial_spaces + \"11  \" + year + year_spaces + sex + race + sex_spaces + ID + ID_spaces)\n",
    "    print(l_name + (last_name_spaces) + f_name + (first_name_spaces) + m_initial + m_initial_spaces + \"12  \" + year + year_spaces + sex + race + sex_spaces + ID + ID_spaces)\n",
    "\n",
    "    \n",
    "    \n",
    "    #Move to next participant\n",
    "    participant_number += 1"
   ]
  },
  {
   "cell_type": "markdown",
   "metadata": {},
   "source": [
    "### "
   ]
  }
 ],
 "metadata": {
  "kernelspec": {
   "display_name": "Python 3 (ipykernel)",
   "language": "python",
   "name": "python3"
  },
  "language_info": {
   "codemirror_mode": {
    "name": "ipython",
    "version": 3
   },
   "file_extension": ".py",
   "mimetype": "text/x-python",
   "name": "python",
   "nbconvert_exporter": "python",
   "pygments_lexer": "ipython3",
   "version": "3.9.7"
  }
 },
 "nbformat": 4,
 "nbformat_minor": 2
}
